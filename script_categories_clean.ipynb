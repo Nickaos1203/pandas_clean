{
 "cells": [
  {
   "cell_type": "code",
   "execution_count": 1,
   "metadata": {},
   "outputs": [],
   "source": [
    "import pandas as pd"
   ]
  },
  {
   "cell_type": "code",
   "execution_count": 2,
   "metadata": {},
   "outputs": [
    {
     "data": {
      "text/html": [
       "<div>\n",
       "<style scoped>\n",
       "    .dataframe tbody tr th:only-of-type {\n",
       "        vertical-align: middle;\n",
       "    }\n",
       "\n",
       "    .dataframe tbody tr th {\n",
       "        vertical-align: top;\n",
       "    }\n",
       "\n",
       "    .dataframe thead th {\n",
       "        text-align: right;\n",
       "    }\n",
       "</style>\n",
       "<table border=\"1\" class=\"dataframe\">\n",
       "  <thead>\n",
       "    <tr style=\"text-align: right;\">\n",
       "      <th></th>\n",
       "      <th>category</th>\n",
       "      <th>is_page_list</th>\n",
       "      <th>url</th>\n",
       "    </tr>\n",
       "  </thead>\n",
       "  <tbody>\n",
       "    <tr>\n",
       "      <th>0</th>\n",
       "      <td>Clôture, panneau, grillage, brise vue</td>\n",
       "      <td>False</td>\n",
       "      <td>https://www.castorama.fr/jardin-et-terrasse/cl...</td>\n",
       "    </tr>\n",
       "    <tr>\n",
       "      <th>1</th>\n",
       "      <td>Abri de jardin, garage, carport et rangement e...</td>\n",
       "      <td>False</td>\n",
       "      <td>https://www.castorama.fr/jardin-et-terrasse/ab...</td>\n",
       "    </tr>\n",
       "    <tr>\n",
       "      <th>2</th>\n",
       "      <td>Outil motorisé de jardin</td>\n",
       "      <td>False</td>\n",
       "      <td>https://www.castorama.fr/jardin-et-terrasse/to...</td>\n",
       "    </tr>\n",
       "    <tr>\n",
       "      <th>3</th>\n",
       "      <td>Terrasse et sol extérieur</td>\n",
       "      <td>False</td>\n",
       "      <td>https://www.castorama.fr/jardin-et-terrasse/te...</td>\n",
       "    </tr>\n",
       "    <tr>\n",
       "      <th>4</th>\n",
       "      <td>Jardinage</td>\n",
       "      <td>False</td>\n",
       "      <td>https://www.castorama.fr/jardinage/cat_id_0004...</td>\n",
       "    </tr>\n",
       "  </tbody>\n",
       "</table>\n",
       "</div>"
      ],
      "text/plain": [
       "                                            category  is_page_list  \\\n",
       "0              Clôture, panneau, grillage, brise vue         False   \n",
       "1  Abri de jardin, garage, carport et rangement e...         False   \n",
       "2                           Outil motorisé de jardin         False   \n",
       "3                          Terrasse et sol extérieur         False   \n",
       "4                                          Jardinage         False   \n",
       "\n",
       "                                                 url  \n",
       "0  https://www.castorama.fr/jardin-et-terrasse/cl...  \n",
       "1  https://www.castorama.fr/jardin-et-terrasse/ab...  \n",
       "2  https://www.castorama.fr/jardin-et-terrasse/to...  \n",
       "3  https://www.castorama.fr/jardin-et-terrasse/te...  \n",
       "4  https://www.castorama.fr/jardinage/cat_id_0004...  "
      ]
     },
     "execution_count": 2,
     "metadata": {},
     "output_type": "execute_result"
    }
   ],
   "source": [
    "# Chargement du csv dans un dataframe\n",
    "categories = pd.read_csv(\"castorama_categories.csv\")\n",
    "categories.head()"
   ]
  },
  {
   "cell_type": "markdown",
   "metadata": {},
   "source": [
    "## Nettoyage de la colonne \"category\""
   ]
  },
  {
   "cell_type": "code",
   "execution_count": 7,
   "metadata": {},
   "outputs": [
    {
     "data": {
      "text/html": [
       "<div>\n",
       "<style scoped>\n",
       "    .dataframe tbody tr th:only-of-type {\n",
       "        vertical-align: middle;\n",
       "    }\n",
       "\n",
       "    .dataframe tbody tr th {\n",
       "        vertical-align: top;\n",
       "    }\n",
       "\n",
       "    .dataframe thead th {\n",
       "        text-align: right;\n",
       "    }\n",
       "</style>\n",
       "<table border=\"1\" class=\"dataframe\">\n",
       "  <thead>\n",
       "    <tr style=\"text-align: right;\">\n",
       "      <th></th>\n",
       "      <th>category</th>\n",
       "      <th>is_page_list</th>\n",
       "      <th>url</th>\n",
       "    </tr>\n",
       "  </thead>\n",
       "  <tbody>\n",
       "    <tr>\n",
       "      <th>0</th>\n",
       "      <td>cloture-panneau-grillage-brise-vue</td>\n",
       "      <td>False</td>\n",
       "      <td>https://www.castorama.fr/jardin-et-terrasse/cl...</td>\n",
       "    </tr>\n",
       "    <tr>\n",
       "      <th>1</th>\n",
       "      <td>abri-de-jardin-garage-carport-et-rangement-ext...</td>\n",
       "      <td>False</td>\n",
       "      <td>https://www.castorama.fr/jardin-et-terrasse/ab...</td>\n",
       "    </tr>\n",
       "    <tr>\n",
       "      <th>2</th>\n",
       "      <td>outil-motorise-de-jardin</td>\n",
       "      <td>False</td>\n",
       "      <td>https://www.castorama.fr/jardin-et-terrasse/to...</td>\n",
       "    </tr>\n",
       "    <tr>\n",
       "      <th>3</th>\n",
       "      <td>terrasse-et-sol-exterieur</td>\n",
       "      <td>False</td>\n",
       "      <td>https://www.castorama.fr/jardin-et-terrasse/te...</td>\n",
       "    </tr>\n",
       "    <tr>\n",
       "      <th>4</th>\n",
       "      <td>jardinage</td>\n",
       "      <td>False</td>\n",
       "      <td>https://www.castorama.fr/jardinage/cat_id_0004...</td>\n",
       "    </tr>\n",
       "  </tbody>\n",
       "</table>\n",
       "</div>"
      ],
      "text/plain": [
       "                                            category  is_page_list  \\\n",
       "0                 cloture-panneau-grillage-brise-vue         False   \n",
       "1  abri-de-jardin-garage-carport-et-rangement-ext...         False   \n",
       "2                           outil-motorise-de-jardin         False   \n",
       "3                          terrasse-et-sol-exterieur         False   \n",
       "4                                          jardinage         False   \n",
       "\n",
       "                                                 url  \n",
       "0  https://www.castorama.fr/jardin-et-terrasse/cl...  \n",
       "1  https://www.castorama.fr/jardin-et-terrasse/ab...  \n",
       "2  https://www.castorama.fr/jardin-et-terrasse/to...  \n",
       "3  https://www.castorama.fr/jardin-et-terrasse/te...  \n",
       "4  https://www.castorama.fr/jardinage/cat_id_0004...  "
      ]
     },
     "execution_count": 7,
     "metadata": {},
     "output_type": "execute_result"
    }
   ],
   "source": [
    "categories['category'] = categories['category'].str.strip()\n",
    "\n",
    "# mise en forme avec la colonne \"category\" du castorama_products.csv\n",
    "categories['category'] = categories['category'].str.lower()\n",
    "categories['category'] = categories['category'].str.replace(\"'\", \"-\")\n",
    "categories['category'] = categories['category'].str.replace(\" \", \"-\")\n",
    "categories[\"category\"] = categories[\"category\"].str.replace(\",\",\"\")\n",
    "\n",
    "# suppression des accents sur les voyelles\n",
    "categories['category'] = categories['category'].str.replace(\"à\", \"a\")\n",
    "categories['category'] = categories['category'].str.replace(\"ë\", \"e\")\n",
    "categories['category'] = categories['category'].str.replace(\"é\", \"e\")\n",
    "categories['category'] = categories['category'].str.replace(\"è\", \"e\")\n",
    "categories['category'] = categories['category'].str.replace(\"ê\", \"e\")\n",
    "categories['category'] = categories['category'].str.replace(\"ï\", \"i\")\n",
    "categories['category'] = categories['category'].str.replace(\"î\", \"i\")\n",
    "categories['category'] = categories['category'].str.replace(\"ô\", \"o\")\n",
    "categories['category'] = categories['category'].str.replace(\"ù\", \"u\")\n",
    "\n",
    "categories.head()\n"
   ]
  },
  {
   "cell_type": "code",
   "execution_count": 11,
   "metadata": {},
   "outputs": [
    {
     "data": {
      "text/plain": [
       "0       False\n",
       "1       False\n",
       "2       False\n",
       "3       False\n",
       "4       False\n",
       "        ...  \n",
       "2202     True\n",
       "2203     True\n",
       "2204     True\n",
       "2205     True\n",
       "2206     True\n",
       "Length: 2207, dtype: bool"
      ]
     },
     "execution_count": 11,
     "metadata": {},
     "output_type": "execute_result"
    }
   ],
   "source": [
    "categories.duplicated(subset=['category'])"
   ]
  },
  {
   "cell_type": "code",
   "execution_count": 13,
   "metadata": {},
   "outputs": [
    {
     "data": {
      "text/plain": [
       "array([False])"
      ]
     },
     "execution_count": 13,
     "metadata": {},
     "output_type": "execute_result"
    }
   ],
   "source": [
    "# suppression des doublons\n",
    "categories.drop_duplicates(subset=[\"category\"], inplace=True)\n",
    "categories.duplicated().unique()"
   ]
  },
  {
   "cell_type": "code",
   "execution_count": 14,
   "metadata": {},
   "outputs": [],
   "source": [
    "# suppression de la colonne \"is_page_list\" car non nécessaire pour l'analyse\n",
    "del categories[\"is_page_list\"]"
   ]
  },
  {
   "cell_type": "code",
   "execution_count": null,
   "metadata": {},
   "outputs": [
    {
     "data": {
      "text/html": [
       "<div>\n",
       "<style scoped>\n",
       "    .dataframe tbody tr th:only-of-type {\n",
       "        vertical-align: middle;\n",
       "    }\n",
       "\n",
       "    .dataframe tbody tr th {\n",
       "        vertical-align: top;\n",
       "    }\n",
       "\n",
       "    .dataframe thead th {\n",
       "        text-align: right;\n",
       "    }\n",
       "</style>\n",
       "<table border=\"1\" class=\"dataframe\">\n",
       "  <thead>\n",
       "    <tr style=\"text-align: right;\">\n",
       "      <th></th>\n",
       "      <th>category</th>\n",
       "      <th>url</th>\n",
       "    </tr>\n",
       "  </thead>\n",
       "  <tbody>\n",
       "    <tr>\n",
       "      <th>0</th>\n",
       "      <td>False</td>\n",
       "      <td>False</td>\n",
       "    </tr>\n",
       "    <tr>\n",
       "      <th>1</th>\n",
       "      <td>False</td>\n",
       "      <td>False</td>\n",
       "    </tr>\n",
       "    <tr>\n",
       "      <th>2</th>\n",
       "      <td>False</td>\n",
       "      <td>False</td>\n",
       "    </tr>\n",
       "    <tr>\n",
       "      <th>3</th>\n",
       "      <td>False</td>\n",
       "      <td>False</td>\n",
       "    </tr>\n",
       "    <tr>\n",
       "      <th>4</th>\n",
       "      <td>False</td>\n",
       "      <td>False</td>\n",
       "    </tr>\n",
       "    <tr>\n",
       "      <th>...</th>\n",
       "      <td>...</td>\n",
       "      <td>...</td>\n",
       "    </tr>\n",
       "    <tr>\n",
       "      <th>2186</th>\n",
       "      <td>False</td>\n",
       "      <td>False</td>\n",
       "    </tr>\n",
       "    <tr>\n",
       "      <th>2187</th>\n",
       "      <td>False</td>\n",
       "      <td>False</td>\n",
       "    </tr>\n",
       "    <tr>\n",
       "      <th>2188</th>\n",
       "      <td>False</td>\n",
       "      <td>False</td>\n",
       "    </tr>\n",
       "    <tr>\n",
       "      <th>2190</th>\n",
       "      <td>False</td>\n",
       "      <td>False</td>\n",
       "    </tr>\n",
       "    <tr>\n",
       "      <th>2194</th>\n",
       "      <td>False</td>\n",
       "      <td>False</td>\n",
       "    </tr>\n",
       "  </tbody>\n",
       "</table>\n",
       "<p>1494 rows × 2 columns</p>\n",
       "</div>"
      ],
      "text/plain": [
       "      category    url\n",
       "0        False  False\n",
       "1        False  False\n",
       "2        False  False\n",
       "3        False  False\n",
       "4        False  False\n",
       "...        ...    ...\n",
       "2186     False  False\n",
       "2187     False  False\n",
       "2188     False  False\n",
       "2190     False  False\n",
       "2194     False  False\n",
       "\n",
       "[1494 rows x 2 columns]"
      ]
     },
     "execution_count": 17,
     "metadata": {},
     "output_type": "execute_result"
    }
   ],
   "source": [
    "# Vérification des valeurs manquantes dans la colonne \"category\"\n",
    "categories.isna().sum()"
   ]
  },
  {
   "cell_type": "code",
   "execution_count": 18,
   "metadata": {},
   "outputs": [],
   "source": [
    "#Conversion vers un csv\n",
    "categories.to_csv(\"castorama_categories_clean.csv\", index=False)"
   ]
  }
 ],
 "metadata": {
  "kernelspec": {
   "display_name": ".venv",
   "language": "python",
   "name": "python3"
  },
  "language_info": {
   "codemirror_mode": {
    "name": "ipython",
    "version": 3
   },
   "file_extension": ".py",
   "mimetype": "text/x-python",
   "name": "python",
   "nbconvert_exporter": "python",
   "pygments_lexer": "ipython3",
   "version": "3.12.6"
  }
 },
 "nbformat": 4,
 "nbformat_minor": 2
}
